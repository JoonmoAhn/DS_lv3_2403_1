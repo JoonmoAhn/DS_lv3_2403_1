{
 "cells": [
  {
   "cell_type": "markdown",
   "id": "5bc5a59b",
   "metadata": {},
   "source": [
    "# 문제 6\n",
    "\n",
    "(kaggle 형 문제) prob4 를 바탕으로 아래 데이터셋을 만든다.\n",
    "\n",
    ". prob6_train: DateHour 변수 기준으로 2021년 8월 14일 전(8월 14일 미포함) 데이터 (행의 수: 5256개)\n",
    "\n",
    ". prob6_test: DateHour 변수 기준으로 2021년 8월 14일 이후(8월 14일 포함) 데이터 (행의 수: 744 개)\n",
    "\n",
    "일 때, prob6_train으로 target을 예측하는 모델을 만들어, \n",
    "\n",
    "prob6_test의 target에 대한 MAE를 최소화하는 모델을 만든다. \n",
    "\n",
    "prob6_test의 예측 결과를 아래와 같은 형식으로 출력한다. 파일명은 answer6.csv 이다.\n",
    "\n",
    "|DateHour|TotalHour|\n",
    "|--------|---------|\n",
    "|2021-08-14 00:00:00|102.607580|\n",
    "|2021-08-14 01:00:00|94.078890|\n",
    "...."
   ]
  },
  {
   "cell_type": "markdown",
   "id": "9d9e14e5",
   "metadata": {},
   "source": [
    "# 시험장 환경 정보\n",
    "\n",
    "Python: 3.7.4 (tags/v3.7.4:e09359112e, Jul  8 2019, 20:34:20) [MSC v.1916 64 bit (AMD64)]\n",
    "\n",
    "|모듈|버젼|\n",
    "|----|----|\n",
    "|pandas|0.25.1|\n",
    "|numpy|1.18.5|\n",
    "|sklearn|0.21.3|\n",
    "|scipy|1.5.2|\n",
    "|mlxtend|0.15.0.0|\n",
    "|statsmodels|0.11.1|\n",
    "\n",
    "**강사: 멀티캠퍼스 강선구(sunku0316.kang@multicampus.com, sun9sun9@gmail.com)**"
   ]
  },
  {
   "cell_type": "code",
   "execution_count": 1,
   "id": "711ced5a",
   "metadata": {},
   "outputs": [
    {
     "name": "stdout",
     "output_type": "stream",
     "text": [
      "3.7.4 (tags/v3.7.4:e09359112e, Jul  8 2019, 20:34:20) [MSC v.1916 64 bit (AMD64)]\n",
      "pandas 0.25.1\n",
      "numpy 1.18.5\n",
      "sklearn 0.21.3\n",
      "scipy 1.5.2\n",
      "mlxtend 0.15.0.0\n",
      "statsmodels 0.11.1\n"
     ]
    }
   ],
   "source": [
    "# 실행 환경 확인\n",
    "\n",
    "import pandas as pd\n",
    "import numpy as np\n",
    "import sklearn\n",
    "import scipy\n",
    "import statsmodels\n",
    "import mlxtend\n",
    "import sys\n",
    "\n",
    "print(sys.version)\n",
    "for i in [pd, np, sklearn, scipy, mlxtend, statsmodels]:\n",
    "    print(i.__name__, i.__version__)"
   ]
  },
  {
   "cell_type": "code",
   "execution_count": 2,
   "id": "0fba185b",
   "metadata": {},
   "outputs": [],
   "source": [
    "df_elec = pd.read_csv('elec.csv', parse_dates=['Date', 'DateHour'])\n",
    "df_info = pd.read_csv('info.csv')\n",
    "df_info['Date'] = pd.to_datetime(df_info['Date'])\n",
    "\n",
    "df_elec1 = df_elec.pivot(\n",
    "    index='DateHour', \n",
    "    columns='Minute', \n",
    "    values='Value').reset_index() # index에 위치한 DateHour를 컬럼에 위치시킵니다\n",
    "\n",
    "holi = pd.to_datetime([\"2021-01-01\", \"2021-02-11\", \"2021-02-12\", \"2021-03-01\", \"2021-05-05\", \"2021-05-19\", \"2021-08-16\"]).date\n",
    "\n",
    "# pd.Series.dt accessor를 통해 파생 변수들을 만듭니다.\n",
    "df_elec1 = df_elec1.assign(\n",
    "    DayName = df_elec1['DateHour'].dt.weekday, \n",
    "    Hour = df_elec1['DateHour'].dt.hour,\n",
    "    AM = (df_elec1['DateHour'].dt.hour >= 12).astype('int'),\n",
    "    Weekend_yn = df_elec1['DateHour'].dt.weekday.isin([5, 6]).astype('int'),\n",
    "    Holiday_yn = df_elec1['DateHour'].dt.date.isin(holi).astype('int'), # df_elec1['DateHour'].dt.date는 pd.Series 입니다.\n",
    "    Avg = df_elec1.mean(axis=1),\n",
    "    TotalHour = df_elec1.sum(axis=1),\n",
    ")\n",
    "\n",
    "df_info1 = df_info.fillna(0)\n",
    "\n",
    "df_basetable1 = df_elec1.merge(\n",
    "    df_info1, \n",
    "    left_on='DateHour', \n",
    "    right_on='Date', how='inner'\n",
    ").drop(columns='Date') # DateHour가 컬럼에 있으므로 DateHour, Date 모두 존재하여, Date는 삭제했습니다.\n",
    "# shift를 이용합니다.\n",
    "\n",
    "df_prob3 = df_basetable1.sort_values('DateHour')\n",
    "df_prob3['target'] = df_prob3['TotalHour'].shift(-24)\n",
    "df_prob4 = pd.concat(\n",
    "    [df_prob3] + [\n",
    "        df_prob3['TotalHour'].shift(24 * i).rename('lag_{}'.format(i)) for i in range(1, 7)\n",
    "    ], axis=1\n",
    ").dropna()"
   ]
  },
  {
   "cell_type": "code",
   "execution_count": 3,
   "id": "684da7f5",
   "metadata": {},
   "outputs": [
    {
     "data": {
      "text/html": [
       "<div>\n",
       "<style scoped>\n",
       "    .dataframe tbody tr th:only-of-type {\n",
       "        vertical-align: middle;\n",
       "    }\n",
       "\n",
       "    .dataframe tbody tr th {\n",
       "        vertical-align: top;\n",
       "    }\n",
       "\n",
       "    .dataframe thead th {\n",
       "        text-align: right;\n",
       "    }\n",
       "</style>\n",
       "<table border=\"1\" class=\"dataframe\">\n",
       "  <thead>\n",
       "    <tr style=\"text-align: right;\">\n",
       "      <th></th>\n",
       "      <th>DateHour</th>\n",
       "      <th>15분</th>\n",
       "      <th>30분</th>\n",
       "      <th>45분</th>\n",
       "      <th>60분</th>\n",
       "      <th>DayName</th>\n",
       "      <th>Hour</th>\n",
       "      <th>AM</th>\n",
       "      <th>Weekend_yn</th>\n",
       "      <th>Holiday_yn</th>\n",
       "      <th>...</th>\n",
       "      <th>TotalHour</th>\n",
       "      <th>생산량</th>\n",
       "      <th>기온</th>\n",
       "      <th>풍속</th>\n",
       "      <th>습도</th>\n",
       "      <th>강수량</th>\n",
       "      <th>전기요금(계절)</th>\n",
       "      <th>공장인원</th>\n",
       "      <th>인건비</th>\n",
       "      <th>target</th>\n",
       "    </tr>\n",
       "  </thead>\n",
       "  <tbody>\n",
       "    <tr>\n",
       "      <td>0</td>\n",
       "      <td>2021-01-01 00:00:00</td>\n",
       "      <td>62</td>\n",
       "      <td>61</td>\n",
       "      <td>61</td>\n",
       "      <td>61</td>\n",
       "      <td>4</td>\n",
       "      <td>0</td>\n",
       "      <td>0</td>\n",
       "      <td>0</td>\n",
       "      <td>1</td>\n",
       "      <td>...</td>\n",
       "      <td>245</td>\n",
       "      <td>0</td>\n",
       "      <td>-3.2</td>\n",
       "      <td>2.4</td>\n",
       "      <td>71</td>\n",
       "      <td>0.0</td>\n",
       "      <td>109.8</td>\n",
       "      <td>0.000000</td>\n",
       "      <td>1.5</td>\n",
       "      <td>253</td>\n",
       "    </tr>\n",
       "    <tr>\n",
       "      <td>1</td>\n",
       "      <td>2021-01-01 01:00:00</td>\n",
       "      <td>96</td>\n",
       "      <td>93</td>\n",
       "      <td>116</td>\n",
       "      <td>113</td>\n",
       "      <td>4</td>\n",
       "      <td>1</td>\n",
       "      <td>0</td>\n",
       "      <td>0</td>\n",
       "      <td>1</td>\n",
       "      <td>...</td>\n",
       "      <td>418</td>\n",
       "      <td>0</td>\n",
       "      <td>-4.5</td>\n",
       "      <td>1.5</td>\n",
       "      <td>77</td>\n",
       "      <td>0.0</td>\n",
       "      <td>109.8</td>\n",
       "      <td>0.000000</td>\n",
       "      <td>1.5</td>\n",
       "      <td>418</td>\n",
       "    </tr>\n",
       "    <tr>\n",
       "      <td>2</td>\n",
       "      <td>2021-01-01 02:00:00</td>\n",
       "      <td>106</td>\n",
       "      <td>96</td>\n",
       "      <td>106</td>\n",
       "      <td>107</td>\n",
       "      <td>4</td>\n",
       "      <td>2</td>\n",
       "      <td>0</td>\n",
       "      <td>0</td>\n",
       "      <td>1</td>\n",
       "      <td>...</td>\n",
       "      <td>415</td>\n",
       "      <td>0</td>\n",
       "      <td>-3.9</td>\n",
       "      <td>2.6</td>\n",
       "      <td>58</td>\n",
       "      <td>0.0</td>\n",
       "      <td>109.8</td>\n",
       "      <td>0.000000</td>\n",
       "      <td>1.5</td>\n",
       "      <td>415</td>\n",
       "    </tr>\n",
       "    <tr>\n",
       "      <td>3</td>\n",
       "      <td>2021-01-01 03:00:00</td>\n",
       "      <td>92</td>\n",
       "      <td>110</td>\n",
       "      <td>110</td>\n",
       "      <td>109</td>\n",
       "      <td>4</td>\n",
       "      <td>3</td>\n",
       "      <td>0</td>\n",
       "      <td>0</td>\n",
       "      <td>1</td>\n",
       "      <td>...</td>\n",
       "      <td>421</td>\n",
       "      <td>0</td>\n",
       "      <td>-4.1</td>\n",
       "      <td>2.6</td>\n",
       "      <td>56</td>\n",
       "      <td>0.0</td>\n",
       "      <td>109.8</td>\n",
       "      <td>0.000000</td>\n",
       "      <td>1.5</td>\n",
       "      <td>421</td>\n",
       "    </tr>\n",
       "    <tr>\n",
       "      <td>4</td>\n",
       "      <td>2021-01-01 04:00:00</td>\n",
       "      <td>108</td>\n",
       "      <td>105</td>\n",
       "      <td>106</td>\n",
       "      <td>108</td>\n",
       "      <td>4</td>\n",
       "      <td>4</td>\n",
       "      <td>0</td>\n",
       "      <td>0</td>\n",
       "      <td>1</td>\n",
       "      <td>...</td>\n",
       "      <td>427</td>\n",
       "      <td>0</td>\n",
       "      <td>-4.6</td>\n",
       "      <td>2.6</td>\n",
       "      <td>60</td>\n",
       "      <td>0.0</td>\n",
       "      <td>109.8</td>\n",
       "      <td>0.000000</td>\n",
       "      <td>1.5</td>\n",
       "      <td>427</td>\n",
       "    </tr>\n",
       "    <tr>\n",
       "      <td>...</td>\n",
       "      <td>...</td>\n",
       "      <td>...</td>\n",
       "      <td>...</td>\n",
       "      <td>...</td>\n",
       "      <td>...</td>\n",
       "      <td>...</td>\n",
       "      <td>...</td>\n",
       "      <td>...</td>\n",
       "      <td>...</td>\n",
       "      <td>...</td>\n",
       "      <td>...</td>\n",
       "      <td>...</td>\n",
       "      <td>...</td>\n",
       "      <td>...</td>\n",
       "      <td>...</td>\n",
       "      <td>...</td>\n",
       "      <td>...</td>\n",
       "      <td>...</td>\n",
       "      <td>...</td>\n",
       "      <td>...</td>\n",
       "      <td>...</td>\n",
       "    </tr>\n",
       "    <tr>\n",
       "      <td>6139</td>\n",
       "      <td>2021-09-13 19:00:00</td>\n",
       "      <td>162</td>\n",
       "      <td>160</td>\n",
       "      <td>148</td>\n",
       "      <td>122</td>\n",
       "      <td>0</td>\n",
       "      <td>19</td>\n",
       "      <td>1</td>\n",
       "      <td>0</td>\n",
       "      <td>0</td>\n",
       "      <td>...</td>\n",
       "      <td>592</td>\n",
       "      <td>2820</td>\n",
       "      <td>22.3</td>\n",
       "      <td>2.1</td>\n",
       "      <td>78</td>\n",
       "      <td>0.0</td>\n",
       "      <td>167.2</td>\n",
       "      <td>4.763514</td>\n",
       "      <td>1.5</td>\n",
       "      <td>613</td>\n",
       "    </tr>\n",
       "    <tr>\n",
       "      <td>6140</td>\n",
       "      <td>2021-09-13 20:00:00</td>\n",
       "      <td>113</td>\n",
       "      <td>122</td>\n",
       "      <td>122</td>\n",
       "      <td>126</td>\n",
       "      <td>0</td>\n",
       "      <td>20</td>\n",
       "      <td>1</td>\n",
       "      <td>0</td>\n",
       "      <td>0</td>\n",
       "      <td>...</td>\n",
       "      <td>483</td>\n",
       "      <td>14</td>\n",
       "      <td>22.2</td>\n",
       "      <td>1.3</td>\n",
       "      <td>78</td>\n",
       "      <td>0.0</td>\n",
       "      <td>167.2</td>\n",
       "      <td>0.028986</td>\n",
       "      <td>1.5</td>\n",
       "      <td>512</td>\n",
       "    </tr>\n",
       "    <tr>\n",
       "      <td>6141</td>\n",
       "      <td>2021-09-13 21:00:00</td>\n",
       "      <td>122</td>\n",
       "      <td>131</td>\n",
       "      <td>122</td>\n",
       "      <td>115</td>\n",
       "      <td>0</td>\n",
       "      <td>21</td>\n",
       "      <td>1</td>\n",
       "      <td>0</td>\n",
       "      <td>0</td>\n",
       "      <td>...</td>\n",
       "      <td>490</td>\n",
       "      <td>72</td>\n",
       "      <td>21.9</td>\n",
       "      <td>1.9</td>\n",
       "      <td>77</td>\n",
       "      <td>0.0</td>\n",
       "      <td>167.2</td>\n",
       "      <td>0.146939</td>\n",
       "      <td>1.5</td>\n",
       "      <td>513</td>\n",
       "    </tr>\n",
       "    <tr>\n",
       "      <td>6142</td>\n",
       "      <td>2021-09-13 22:00:00</td>\n",
       "      <td>97</td>\n",
       "      <td>108</td>\n",
       "      <td>122</td>\n",
       "      <td>113</td>\n",
       "      <td>0</td>\n",
       "      <td>22</td>\n",
       "      <td>1</td>\n",
       "      <td>0</td>\n",
       "      <td>0</td>\n",
       "      <td>...</td>\n",
       "      <td>440</td>\n",
       "      <td>11</td>\n",
       "      <td>21.7</td>\n",
       "      <td>1.4</td>\n",
       "      <td>77</td>\n",
       "      <td>0.0</td>\n",
       "      <td>167.2</td>\n",
       "      <td>0.025000</td>\n",
       "      <td>1.5</td>\n",
       "      <td>443</td>\n",
       "    </tr>\n",
       "    <tr>\n",
       "      <td>6143</td>\n",
       "      <td>2021-09-13 23:00:00</td>\n",
       "      <td>111</td>\n",
       "      <td>123</td>\n",
       "      <td>110</td>\n",
       "      <td>87</td>\n",
       "      <td>0</td>\n",
       "      <td>23</td>\n",
       "      <td>1</td>\n",
       "      <td>0</td>\n",
       "      <td>0</td>\n",
       "      <td>...</td>\n",
       "      <td>431</td>\n",
       "      <td>345</td>\n",
       "      <td>21.4</td>\n",
       "      <td>1.4</td>\n",
       "      <td>80</td>\n",
       "      <td>0.0</td>\n",
       "      <td>167.2</td>\n",
       "      <td>0.800464</td>\n",
       "      <td>1.5</td>\n",
       "      <td>439</td>\n",
       "    </tr>\n",
       "  </tbody>\n",
       "</table>\n",
       "<p>6144 rows × 21 columns</p>\n",
       "</div>"
      ],
      "text/plain": [
       "                DateHour  15분  30분  45분  60분  DayName  Hour  AM  Weekend_yn  \\\n",
       "0    2021-01-01 00:00:00   62   61   61   61        4     0   0           0   \n",
       "1    2021-01-01 01:00:00   96   93  116  113        4     1   0           0   \n",
       "2    2021-01-01 02:00:00  106   96  106  107        4     2   0           0   \n",
       "3    2021-01-01 03:00:00   92  110  110  109        4     3   0           0   \n",
       "4    2021-01-01 04:00:00  108  105  106  108        4     4   0           0   \n",
       "...                  ...  ...  ...  ...  ...      ...   ...  ..         ...   \n",
       "6139 2021-09-13 19:00:00  162  160  148  122        0    19   1           0   \n",
       "6140 2021-09-13 20:00:00  113  122  122  126        0    20   1           0   \n",
       "6141 2021-09-13 21:00:00  122  131  122  115        0    21   1           0   \n",
       "6142 2021-09-13 22:00:00   97  108  122  113        0    22   1           0   \n",
       "6143 2021-09-13 23:00:00  111  123  110   87        0    23   1           0   \n",
       "\n",
       "      Holiday_yn  ...  TotalHour   생산량    기온   풍속  습도  강수량  전기요금(계절)  \\\n",
       "0              1  ...        245     0  -3.2  2.4  71  0.0     109.8   \n",
       "1              1  ...        418     0  -4.5  1.5  77  0.0     109.8   \n",
       "2              1  ...        415     0  -3.9  2.6  58  0.0     109.8   \n",
       "3              1  ...        421     0  -4.1  2.6  56  0.0     109.8   \n",
       "4              1  ...        427     0  -4.6  2.6  60  0.0     109.8   \n",
       "...          ...  ...        ...   ...   ...  ...  ..  ...       ...   \n",
       "6139           0  ...        592  2820  22.3  2.1  78  0.0     167.2   \n",
       "6140           0  ...        483    14  22.2  1.3  78  0.0     167.2   \n",
       "6141           0  ...        490    72  21.9  1.9  77  0.0     167.2   \n",
       "6142           0  ...        440    11  21.7  1.4  77  0.0     167.2   \n",
       "6143           0  ...        431   345  21.4  1.4  80  0.0     167.2   \n",
       "\n",
       "          공장인원  인건비  target  \n",
       "0     0.000000  1.5     253  \n",
       "1     0.000000  1.5     418  \n",
       "2     0.000000  1.5     415  \n",
       "3     0.000000  1.5     421  \n",
       "4     0.000000  1.5     427  \n",
       "...        ...  ...     ...  \n",
       "6139  4.763514  1.5     613  \n",
       "6140  0.028986  1.5     512  \n",
       "6141  0.146939  1.5     513  \n",
       "6142  0.025000  1.5     443  \n",
       "6143  0.800464  1.5     439  \n",
       "\n",
       "[6144 rows x 21 columns]"
      ]
     },
     "execution_count": 3,
     "metadata": {},
     "output_type": "execute_result"
    }
   ],
   "source": [
    "# shift를 사용하지 않고 target를 구하는 방법입니다. (값을 구하기만 하고, 따로 prob4로 만들지는 않았습니다.)\n",
    "df_basetable1.join(\n",
    "    df_basetable1[['DateHour','TotalHour']].assign(\n",
    "        DateHour=lambda x: x['DateHour'] - pd.Timedelta(days=1)\n",
    "    ).set_index('DateHour').rename(columns={'TotalHour': 'target'}),\n",
    "    on='DateHour', how='inner'\n",
    ")"
   ]
  },
  {
   "cell_type": "code",
   "execution_count": 4,
   "id": "45292ce5",
   "metadata": {},
   "outputs": [],
   "source": [
    "# 문제에서 제시한 데이터셋을 만듭니다.\n",
    "df_prob6_train = df_prob4.loc[df_prob4['DateHour'] < pd.to_datetime('2021-08-14')]\n",
    "df_prob6_test = df_prob4.loc[df_prob4['DateHour'] >= pd.to_datetime('2021-08-14')]\n",
    "# 정답 target은 떼어냅니다.\n",
    "s_kaggle_ans =  df_prob6_test.pop('target')"
   ]
  },
  {
   "cell_type": "code",
   "execution_count": 5,
   "id": "f2943980",
   "metadata": {},
   "outputs": [],
   "source": [
    "# Kaggle형 풀이 단계\n",
    "# Step 1: 검증 방법을 정하고, 검증 루틴을 만듭니다.\n",
    "# Step 2: Baseline 모델을 만듭니다\n",
    "# Step 3: 모델 선택 루틴을 만듭니다.\n",
    "# Step 4: 모델 개선 작업을 합니다.\n",
    "\n",
    "from sklearn.compose import ColumnTransformer\n",
    "from sklearn.pipeline import make_pipeline\n",
    "from sklearn.metrics import mean_absolute_error\n",
    "from sklearn.preprocessing import StandardScaler, OneHotEncoder\n",
    "\n",
    "\n",
    "# 시점을 기준으로 한 Hold-out 방법\n",
    "# 문제에서 제시한 train/test 구분과 같이 검증셋도 시점 기준으로 검증train과 검증test(검증데이터)로 나눕니다.\n",
    "df_train_eval = df_prob6_train.loc[df_prob6_train['DateHour'] < pd.to_datetime('2021-07-14')]\n",
    "df_eval = df_prob6_train.loc[df_prob6_train['DateHour'] >= pd.to_datetime('2021-07-14')]\n",
    "X_all = [i for i in df_train_eval.columns if i != 'target']\n",
    "# 검증 루틴\n",
    "def eval_model(model):\n",
    "    model.fit(df_train_eval[X_all], df_train_eval['target'])\n",
    "    return (\n",
    "        mean_absolute_error(df_eval['target'], model.predict(df_eval[X_all])), \n",
    "        mean_absolute_error(df_train_eval['target'], model.predict(df_train_eval[X_all]))\n",
    "    )\n",
    "\n",
    "# 모델 선택 \n",
    "def choose_model(model):\n",
    "    # 전체 데이터셋으로 재학습\n",
    "    model.fit(df_prob6_train[X_all], df_prob6_train['target'])\n",
    "    # 평가 데이터 예측\n",
    "    prd = model.predict(df_prob6_test[X_all])\n",
    "    # 평가 결과 파일 제작\n",
    "    pd.DataFrame({\n",
    "        'DateHour': df_prob6_test['DateHour'],\n",
    "        'TotalHour': prd\n",
    "    }).to_csv('answer6.csv', index=None) # index=None, index는 파일에 미포함\n",
    "    return prd"
   ]
  },
  {
   "cell_type": "code",
   "execution_count": 6,
   "id": "690ab979",
   "metadata": {},
   "outputs": [
    {
     "data": {
      "text/plain": [
       "(148.65000821712516, 61.50534596142382)"
      ]
     },
     "execution_count": 6,
     "metadata": {},
     "output_type": "execute_result"
    }
   ],
   "source": [
    "# Baseline 모델을 만듭니다.\n",
    "from sklearn.svm import SVR\n",
    "ct = ColumnTransformer([\n",
    "    ('std', StandardScaler(), ['TotalHour'] + ['lag_{}'.format(i) for i in range(1, 7)])\n",
    "])\n",
    "\n",
    "reg_svm = make_pipeline(ct, SVR(C=10, kernel='rbf', gamma=0.1))\n",
    "eval_model(reg_svm)"
   ]
  },
  {
   "cell_type": "code",
   "execution_count": 7,
   "id": "b4fd25df",
   "metadata": {},
   "outputs": [
    {
     "data": {
      "text/plain": [
       "30.017658858928023"
      ]
     },
     "execution_count": 7,
     "metadata": {},
     "output_type": "execute_result"
    }
   ],
   "source": [
    "# Baseline 모델을 제출합니다.\n",
    "prd = choose_model(reg_svm)\n",
    "# 자가 채점합니다.\n",
    "mean_absolute_error(s_kaggle_ans, prd)"
   ]
  },
  {
   "cell_type": "code",
   "execution_count": 8,
   "id": "c5829131",
   "metadata": {},
   "outputs": [
    {
     "data": {
      "text/plain": [
       "(127.89126981670202, 37.71620515264342)"
      ]
     },
     "execution_count": 8,
     "metadata": {},
     "output_type": "execute_result"
    }
   ],
   "source": [
    "# SVR을 개선해봅니다.\n",
    "from sklearn.svm import SVR\n",
    "\n",
    "# DayName의 가변수를 추가\n",
    "ct = ColumnTransformer([\n",
    "    ('std', StandardScaler(), ['TotalHour'] + ['lag_{}'.format(i) for i in range(1, 7)]), \n",
    "    ('ohe', OneHotEncoder(drop='first', categories='auto'), ['DayName'])\n",
    "])\n",
    "\n",
    "reg_svm_2 = make_pipeline(ct, SVR(C=1000, kernel='rbf', gamma=0.1))\n",
    "eval_model(reg_svm_2)"
   ]
  },
  {
   "cell_type": "code",
   "execution_count": 9,
   "id": "68ee1f95",
   "metadata": {},
   "outputs": [
    {
     "data": {
      "text/plain": [
       "31.97467882477439"
      ]
     },
     "execution_count": 9,
     "metadata": {},
     "output_type": "execute_result"
    }
   ],
   "source": [
    "# 성능 개선이 보입니다. 모델로 선정합니다.\n",
    "prd = choose_model(reg_svm_2)\n",
    "mean_absolute_error(s_kaggle_ans, prd)"
   ]
  },
  {
   "cell_type": "code",
   "execution_count": 10,
   "id": "d5f7b101",
   "metadata": {},
   "outputs": [
    {
     "data": {
      "text/plain": [
       "(134.0816459387412, 46.3696367290434)"
      ]
     },
     "execution_count": 10,
     "metadata": {},
     "output_type": "execute_result"
    }
   ],
   "source": [
    "# SVM + 대상 변수를 Log 변환\n",
    "from sklearn.compose import TransformedTargetRegressor\n",
    "\n",
    "ct = ColumnTransformer([\n",
    "    ('std', StandardScaler(), ['TotalHour'] + ['lag_{}'.format(i) for i in range(1, 7)]), \n",
    "    ('ohe', OneHotEncoder(drop='first', categories='auto'), ['DayName'])\n",
    "])\n",
    "\n",
    "reg_svm_3 = make_pipeline(\n",
    "    ct, \n",
    "    TransformedTargetRegressor(\n",
    "        regressor = SVR(C=1, kernel='rbf', gamma=0.1),\n",
    "        func=lambda x: np.log(x + 1),\n",
    "        inverse_func = lambda x: np.exp(x) - 1\n",
    "    )\n",
    ")\n",
    "eval_model(reg_svm_3)"
   ]
  },
  {
   "cell_type": "code",
   "execution_count": 11,
   "id": "673d1bb0",
   "metadata": {},
   "outputs": [
    {
     "data": {
      "text/plain": [
       "(130.14805081331278, 46.23430000312991)"
      ]
     },
     "execution_count": 11,
     "metadata": {},
     "output_type": "execute_result"
    }
   ],
   "source": [
    "# SVM + PCA\n",
    "\n",
    "from sklearn.decomposition import PCA\n",
    "# DayName의 가변수를 추가\n",
    "ct = ColumnTransformer([\n",
    "    ('std', make_pipeline(StandardScaler(), PCA(n_components=7)), ['TotalHour'] + ['lag_{}'.format(i) for i in range(1, 7)]), \n",
    "    ('ohe', OneHotEncoder(drop='first', categories='auto'), ['DayName'])\n",
    "])\n",
    "\n",
    "reg_svm_4 = make_pipeline(ct, SVR(C=100, kernel='rbf', gamma=0.1))\n",
    "eval_model(reg_svm_4)"
   ]
  },
  {
   "cell_type": "code",
   "execution_count": 12,
   "id": "0290647b",
   "metadata": {},
   "outputs": [
    {
     "data": {
      "text/plain": [
       "(117.32391481946111, 36.73714649971901)"
      ]
     },
     "execution_count": 12,
     "metadata": {},
     "output_type": "execute_result"
    }
   ],
   "source": [
    "# Gradient Boosting Model 입니다.\n",
    "from sklearn.ensemble import GradientBoostingRegressor\n",
    "\n",
    "X_gb = \"15분, 30분, 45분, 60분, DayName, Hour, AM, Weekend_yn, Holiday_yn, Avg, TotalHour, 생산량, 기온, 풍속, 습도, 강수량, 전기요금(계절), 공장인원, 인건비\"\n",
    "X_gb = [i.strip() for i in X_gb.split(',')]\n",
    "ct = ColumnTransformer([\n",
    "    ('pt', 'passthrough', X_gb)\n",
    "])\n",
    "\n",
    "reg_gb = make_pipeline(\n",
    "    ct,\n",
    "    GradientBoostingRegressor(\n",
    "        loss = 'huber', # 손실함수: huber\n",
    "        n_estimators = 75, # 트리의 수: 75\n",
    "        max_depth = 7, # 트리의 최대 깊이: 7\n",
    "        min_samples_leaf = 4, # 리프 노드(Leaf Node)의 최소 샘플 수: 4\n",
    "        random_state = 123# 랜덤 시드: 123\n",
    "    )\n",
    ")\n",
    "eval_model(reg_gb)"
   ]
  },
  {
   "cell_type": "code",
   "execution_count": 13,
   "id": "3f9e701f",
   "metadata": {},
   "outputs": [
    {
     "data": {
      "text/plain": [
       "38.86815607791259"
      ]
     },
     "execution_count": 13,
     "metadata": {},
     "output_type": "execute_result"
    }
   ],
   "source": [
    "# 성능 개선이 보입니다. 모델로 선정합니다.\n",
    "prd = choose_model(reg_gb)\n",
    "mean_absolute_error(s_kaggle_ans, prd)"
   ]
  },
  {
   "cell_type": "code",
   "execution_count": 14,
   "id": "0b7cdcf3",
   "metadata": {},
   "outputs": [
    {
     "data": {
      "text/plain": [
       "(108.87033477061964, 55.09825731799526)"
      ]
     },
     "execution_count": 14,
     "metadata": {},
     "output_type": "execute_result"
    }
   ],
   "source": [
    "# Gradient Boosting 모델 개선 \n",
    "from sklearn.ensemble import GradientBoostingRegressor\n",
    "\n",
    "X_gb = \"15분, 30분, 45분, 60분, DayName, Hour, AM, Weekend_yn, Holiday_yn, Avg, TotalHour, 생산량, 기온, 풍속, 습도, 강수량, 전기요금(계절), 공장인원, 인건비\"\n",
    "X_gb = [i.strip() for i in X_gb.split(',')]\n",
    "ct = ColumnTransformer([\n",
    "    ('pt', 'passthrough', X_gb)\n",
    "])\n",
    "\n",
    "reg_gb_1 = make_pipeline(\n",
    "    ct,\n",
    "    GradientBoostingRegressor(n_estimators=50, max_depth=6, random_state=123)\n",
    ")\n",
    "eval_model(reg_gb_1)"
   ]
  },
  {
   "cell_type": "code",
   "execution_count": 15,
   "id": "12cde95e",
   "metadata": {},
   "outputs": [
    {
     "data": {
      "text/plain": [
       "43.08849195788369"
      ]
     },
     "execution_count": 15,
     "metadata": {},
     "output_type": "execute_result"
    }
   ],
   "source": [
    "# 성능 개선이 보입니다. 모델로 선정합니다.\n",
    "prd = choose_model(reg_gb_1)\n",
    "mean_absolute_error(s_kaggle_ans, prd)"
   ]
  },
  {
   "cell_type": "code",
   "execution_count": 16,
   "id": "e1dc2ae0",
   "metadata": {},
   "outputs": [
    {
     "data": {
      "text/plain": [
       "(110.56255657727685, 39.98675230929889)"
      ]
     },
     "execution_count": 16,
     "metadata": {},
     "output_type": "execute_result"
    }
   ],
   "source": [
    "# Gradient Boosting 모델 개선 - leaf wise 방법입니다.\n",
    "from sklearn.ensemble import GradientBoostingRegressor\n",
    "\n",
    "X_gb = \"15분, 30분, 45분, 60분, DayName, Hour, AM, Weekend_yn, Holiday_yn, Avg, TotalHour, 생산량, 기온, 풍속, 습도, 강수량, 전기요금(계절), 공장인원, 인건비\"\n",
    "X_gb = [i.strip() for i in X_gb.split(',')]\n",
    "ct = ColumnTransformer([\n",
    "    ('pt', 'passthrough', X_gb)\n",
    "])\n",
    "\n",
    "# max_depth: leaf-wise \n",
    "reg_gb_2 = make_pipeline(\n",
    "    ct,\n",
    "    GradientBoostingRegressor(n_estimators=100, max_depth=None, max_leaf_nodes=32, random_state=123)\n",
    ")\n",
    "eval_model(reg_gb_2)"
   ]
  },
  {
   "cell_type": "code",
   "execution_count": 17,
   "id": "915f6a0f",
   "metadata": {},
   "outputs": [
    {
     "data": {
      "text/plain": [
       "(108.17241670562379, 27.279992482983307)"
      ]
     },
     "execution_count": 17,
     "metadata": {},
     "output_type": "execute_result"
    }
   ],
   "source": [
    "# Random Forest Regressor\n",
    "from sklearn.ensemble import RandomForestRegressor\n",
    "\n",
    "X_rf = \"15분, 30분, 45분, 60분, DayName, Hour, AM, Weekend_yn, Holiday_yn, Avg, TotalHour, 생산량, 기온, 풍속, 습도, 강수량, 전기요금(계절), 공장인원, 인건비\"\n",
    "X_rf = [i.strip() for i in X_rf.split(',')]\n",
    "ct = ColumnTransformer([\n",
    "    ('pt', 'passthrough', X_rf)\n",
    "])\n",
    "\n",
    "reg_rf = make_pipeline(\n",
    "    ct,\n",
    "    RandomForestRegressor(n_estimators=500, max_depth=13, random_state=123)\n",
    ")\n",
    "eval_model(reg_rf)"
   ]
  },
  {
   "cell_type": "code",
   "execution_count": 18,
   "id": "aeeb3f19",
   "metadata": {},
   "outputs": [
    {
     "data": {
      "text/plain": [
       "33.55111041318366"
      ]
     },
     "execution_count": 18,
     "metadata": {},
     "output_type": "execute_result"
    }
   ],
   "source": [
    "# 성능 개선이 보입니다. 모델로 선정합니다.\n",
    "prd = choose_model(reg_rf)\n",
    "mean_absolute_error(s_kaggle_ans, prd)"
   ]
  },
  {
   "cell_type": "code",
   "execution_count": 19,
   "id": "a95b68c5",
   "metadata": {},
   "outputs": [
    {
     "data": {
      "text/plain": [
       "(164.05876778505638, 84.94987496121442)"
      ]
     },
     "execution_count": 19,
     "metadata": {},
     "output_type": "execute_result"
    }
   ],
   "source": [
    "from sklearn.linear_model import LinearRegression\n",
    "\n",
    "# DayName의 가변수를 추가\n",
    "ct = ColumnTransformer([\n",
    "    ('std', StandardScaler(), ['TotalHour'] + ['lag_{}'.format(i) for i in range(1, 7)]), \n",
    "    ('ohe', OneHotEncoder(drop='first', categories='auto'), ['DayName'])\n",
    "])\n",
    "\n",
    "reg_lr = make_pipeline(ct, LinearRegression())\n",
    "eval_model(reg_lr)"
   ]
  },
  {
   "cell_type": "code",
   "execution_count": 20,
   "id": "9100bc2a",
   "metadata": {},
   "outputs": [
    {
     "data": {
      "text/plain": [
       "(104.42331921413381, 27.079157434456736)"
      ]
     },
     "execution_count": 20,
     "metadata": {},
     "output_type": "execute_result"
    }
   ],
   "source": [
    "# XGBoost 모델입니다.\n",
    "\n",
    "import xgboost as xgb\n",
    "\n",
    "X_xgb = \"15분, 30분, 45분, 60분, DayName, Hour, AM, Weekend_yn, Holiday_yn, Avg, TotalHour, 생산량, 기온, 풍속, 습도, 강수량, 전기요금(계절), 공장인원, 인건비\"\n",
    "X_xgb = [i.strip() for i in X_xgb.split(',')]\n",
    "\n",
    "ct = ColumnTransformer([\n",
    "    ('pt', 'passthrough', X_xgb)\n",
    "])\n",
    "reg_xgb = make_pipeline(\n",
    "    ct,\n",
    "    xgb.XGBRegressor(n_estimators=250, max_depth=6, random_state=123)\n",
    ")\n",
    "eval_model(reg_xgb)"
   ]
  },
  {
   "cell_type": "code",
   "execution_count": 21,
   "id": "fa667ae6",
   "metadata": {},
   "outputs": [
    {
     "data": {
      "text/plain": [
       "46.65217423751469"
      ]
     },
     "execution_count": 21,
     "metadata": {},
     "output_type": "execute_result"
    }
   ],
   "source": [
    "# 성능 개선이 보입니다. 모델로 선정합니다.\n",
    "prd = choose_model(reg_xgb)\n",
    "mean_absolute_error(s_kaggle_ans, prd)"
   ]
  },
  {
   "cell_type": "code",
   "execution_count": 22,
   "id": "e7c92e13",
   "metadata": {},
   "outputs": [
    {
     "data": {
      "text/plain": [
       "(104.65663918982604, 25.921749323377654)"
      ]
     },
     "execution_count": 22,
     "metadata": {},
     "output_type": "execute_result"
    }
   ],
   "source": [
    "# Voting을 해봅니다.\n",
    "from sklearn.ensemble import VotingRegressor\n",
    "reg_vt = VotingRegressor([\n",
    "    #('svm_2', reg_svm_2),\n",
    "    #('gb_1', reg_gb_1),\n",
    "    #('gb_2', reg_gb_2),\n",
    "    ('xgb', reg_xgb),\n",
    "    ('rf_1', reg_rf)\n",
    "])\n",
    "eval_model(reg_vt)"
   ]
  },
  {
   "cell_type": "code",
   "execution_count": 23,
   "id": "ab7bd0dc",
   "metadata": {},
   "outputs": [
    {
     "data": {
      "text/plain": [
       "37.79926095113897"
      ]
     },
     "execution_count": 23,
     "metadata": {},
     "output_type": "execute_result"
    }
   ],
   "source": [
    "# 최종 모델로는 선정을 하지는 않을 것이지만 성능을 봅니다.\n",
    "prd = choose_model(reg_vt)\n",
    "mean_absolute_error(s_kaggle_ans, prd)"
   ]
  },
  {
   "cell_type": "code",
   "execution_count": null,
   "id": "cd225eb7",
   "metadata": {},
   "outputs": [],
   "source": []
  }
 ],
 "metadata": {
  "kernelspec": {
   "display_name": "Python 3 (ipykernel)",
   "language": "python",
   "name": "python3"
  },
  "language_info": {
   "codemirror_mode": {
    "name": "ipython",
    "version": 3
   },
   "file_extension": ".py",
   "mimetype": "text/x-python",
   "name": "python",
   "nbconvert_exporter": "python",
   "pygments_lexer": "ipython3",
   "version": "3.7.4"
  }
 },
 "nbformat": 4,
 "nbformat_minor": 5
}
