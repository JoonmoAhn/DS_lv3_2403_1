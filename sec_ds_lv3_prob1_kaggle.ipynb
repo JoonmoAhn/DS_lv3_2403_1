{
 "cells": [
  {
   "cell_type": "markdown",
   "id": "765c0422",
   "metadata": {},
   "source": [
    "# 문제 6\n",
    "\n",
    "[Kaggle 형] train_prob.csv로 문제 failure 예측하는 모델을 만들고, \n",
    "\n",
    "test_prob.csv에 대한 failure가 1일 확률 예측하여 다음과 같은 형식의 answer6.csv를 만들어라. \n",
    "\n",
    "측정 지표는 AUC(area under of ROC curve)이다. id 는 테스트 케이스의 id 이고, failure에는 failure가 1이 될 확률이다.\n",
    "\n",
    "id,failure\n",
    "\n",
    "16115, 0.1\n",
    "\n",
    "16116, 0.2\n",
    "\n",
    "\n",
    "**강사: 멀티캠퍼스 강선구(sunku0316.kang@multicampus.com, sun9sun9@gmail.com)**"
   ]
  },
  {
   "cell_type": "code",
   "execution_count": 1,
   "id": "a84a412b",
   "metadata": {},
   "outputs": [
    {
     "name": "stdout",
     "output_type": "stream",
     "text": [
      "3.7.4 (tags/v3.7.4:e09359112e, Jul  8 2019, 20:34:20) [MSC v.1916 64 bit (AMD64)]\n",
      "pandas 0.25.1\n",
      "numpy 1.18.5\n",
      "sklearn 0.21.3\n",
      "scipy 1.5.2\n",
      "mlxtend 0.15.0.0\n",
      "statsmodels 0.11.1\n",
      "xgboost 0.80\n"
     ]
    }
   ],
   "source": [
    "# 실행 환경 확인\n",
    "\n",
    "import pandas as pd\n",
    "import numpy as np\n",
    "import sklearn\n",
    "import scipy\n",
    "import statsmodels\n",
    "import mlxtend\n",
    "import sys\n",
    "import xgboost as xgb\n",
    "\n",
    "print(sys.version)\n",
    "for i in [pd, np, sklearn, scipy, mlxtend, statsmodels, xgb]:\n",
    "    print(i.__name__, i.__version__)"
   ]
  },
  {
   "cell_type": "code",
   "execution_count": 2,
   "id": "3bbadfcc",
   "metadata": {},
   "outputs": [],
   "source": [
    "df_train = pd.read_csv('train_prob.csv', index_col='id')\n",
    "df_test = pd.read_csv('test_prob.csv', index_col='id')\n",
    "df_ans = pd.read_csv('test_prob_ans.csv', index_col='id') # 정답을 가져옵니다."
   ]
  },
  {
   "cell_type": "code",
   "execution_count": 3,
   "id": "941cce7f",
   "metadata": {},
   "outputs": [],
   "source": [
    "# 결측치를 처리하기 전에,\n",
    "# 결측 여부가 failure를 예측하는데, 유용할 만하다고 도출된\n",
    "# measurement_3, measurement_5의 결측 여부만 남깁니다.\n",
    "df_train[['na_1', 'na_2']] = df_train[['measurement_3', 'measurement_5']].isna()\n",
    "df_test[['na_1', 'na_2']] = df_test[['measurement_3', 'measurement_5']].isna()"
   ]
  },
  {
   "cell_type": "code",
   "execution_count": 4,
   "id": "951f12f3",
   "metadata": {},
   "outputs": [
    {
     "data": {
      "text/plain": [
       "C    5765\n",
       "E    5343\n",
       "B    5250\n",
       "A    5100\n",
       "Name: product_code, dtype: int64"
      ]
     },
     "execution_count": 4,
     "metadata": {},
     "output_type": "execute_result"
    }
   ],
   "source": [
    "df_train['product_code'].value_counts()"
   ]
  },
  {
   "cell_type": "code",
   "execution_count": 5,
   "id": "b9dec988",
   "metadata": {},
   "outputs": [
    {
     "data": {
      "text/plain": [
       "D    5112\n",
       "Name: product_code, dtype: int64"
      ]
     },
     "execution_count": 5,
     "metadata": {},
     "output_type": "execute_result"
    }
   ],
   "source": [
    "df_test['product_code'].value_counts()"
   ]
  },
  {
   "cell_type": "code",
   "execution_count": 6,
   "id": "4bfedeb0",
   "metadata": {},
   "outputs": [],
   "source": [
    "from sklearn.experimental import enable_iterative_imputer # 구문을 사용하여 실험 단계인 모듈을 활성화하고, \n",
    "from sklearn.impute import IterativeImputer\n",
    "from sklearn.linear_model import LinearRegression\n",
    "from sklearn.metrics import r2_score\n",
    "\n",
    "X_imp = ['measurement_{}'.format(i) for i in range(3, 10)] + ['measurement_17']\n",
    "# train에 등장하지 않은 product_code가 있습니다, test를 포함하여 결측처리 모델을 만듭니다.\n",
    "s_imp = pd.concat([\n",
    "        df_train[X_imp + ['product_code']],\n",
    "        df_test[X_imp + ['product_code']]\n",
    "], axis=0).groupby('product_code')\\\n",
    ".apply(\n",
    "    lambda x: IterativeImputer(estimator=LinearRegression(),random_state=123).fit(x[X_imp])\n",
    ")\n",
    "# train에 적용합니다.\n",
    "df_train[X_imp] = df_train.groupby('product_code')[X_imp]\\\n",
    "            .apply(\n",
    "                lambda x: pd.DataFrame(s_imp.loc[x.name].transform(x[X_imp]), index=x.index, columns=X_imp)\n",
    "            )\n",
    "# test에 적용합니다.\n",
    "df_test[X_imp] = df_test.groupby('product_code')[X_imp]\\\n",
    "            .apply(\n",
    "                lambda x: pd.DataFrame(s_imp.loc[x.name].transform(x[X_imp]), index=x.index, columns=X_imp)\n",
    "            )\n",
    "\n",
    "X_mean = ['measurement_{}'.format(i) for i in range(10, 17)]\n",
    "# 역시 train에 등장하지 않은 product_code를 처리하기 위해 합치니다.\n",
    "df_mean = pd.concat([\n",
    "            df_train[['product_code'] + X_mean],\n",
    "            df_test[['product_code'] + X_mean]\n",
    "        ]).groupby('product_code')[X_mean].agg('mean')\n",
    "\n",
    "df_train[X_mean] = df_train.groupby('product_code')[X_mean]\\\n",
    "            .apply(lambda x: pd.DataFrame(x.fillna(df_mean.loc[x.name]), index=x.index, columns=x.columns))\n",
    "df_test[X_mean] = df_test.groupby('product_code')[X_mean]\\\n",
    "            .apply(lambda x: pd.DataFrame(x.fillna(df_mean.loc[x.name]), index=x.index, columns=x.columns))"
   ]
  },
  {
   "cell_type": "code",
   "execution_count": 7,
   "id": "f8119fa8",
   "metadata": {},
   "outputs": [
    {
     "data": {
      "text/plain": [
       "(0, 0)"
      ]
     },
     "execution_count": 7,
     "metadata": {},
     "output_type": "execute_result"
    }
   ],
   "source": [
    "df_train['loading'] = df_train['loading'].fillna(df_train['loading'].mean())\n",
    "# loading은 train에서의 평균으로 결측치를 처리합니다.\n",
    "df_test['loading'] = df_test['loading'].fillna(df_train['loading'].mean())\n",
    "df_train.isna().sum().sum(), df_test.isna().sum().sum()"
   ]
  },
  {
   "cell_type": "code",
   "execution_count": 8,
   "id": "d49ebe5f",
   "metadata": {},
   "outputs": [],
   "source": [
    "# 공통으로 사용할 만한 요소입니다.\n",
    "from sklearn.model_selection import GroupKFold, cross_validate\n",
    "from sklearn.pipeline import make_pipeline\n",
    "from sklearn.compose import ColumnTransformer\n",
    "from sklearn.metrics import roc_auc_score\n",
    "from sklearn.preprocessing import StandardScaler, FunctionTransformer\n",
    "from sklearn.decomposition import PCA\n",
    "\n",
    "X_all = df_test.columns.tolist()\n",
    "X_num = ['measurement_{}'.format(i) for i in range(18)]\n",
    "gcv = GroupKFold(n_splits=4)\n",
    "\n",
    "def eval_model(model):\n",
    "    return cross_validate(\n",
    "        model, df_train[X_all], df_train['failure'], cv=gcv, groups=df_train['product_code'], scoring='roc_auc',\n",
    "        return_train_score=True\n",
    "    )\n",
    "\n",
    "def choose_model(model):\n",
    "    model.fit(df_train[X_all], df_train['failure'])\n",
    "    prd = model.predict_proba(df_test[X_all])[:, 1]\n",
    "    pd.DataFrame(\n",
    "        {\n",
    "            'id': df_test.index.values,\n",
    "            'failue': prd\n",
    "        }\n",
    "    ).to_csv('answer6.csv', index=None)\n",
    "    return prd"
   ]
  },
  {
   "cell_type": "markdown",
   "id": "d82dcf66",
   "metadata": {},
   "source": [
    "Baseline Model: Logistic Regression\n",
    "\n",
    "\n",
    "입력 변수\n",
    "\n",
    "표준화:  'loading', 'measurement_1', 'measurement_4', 'measurement_14', 'measurement_17'\n",
    "\n",
    "통과: 'na_1'\n"
   ]
  },
  {
   "cell_type": "code",
   "execution_count": 18,
   "id": "10e98520",
   "metadata": {},
   "outputs": [
    {
     "data": {
      "text/plain": [
       "(0.5893698519267131, 0.0037908863862941063, 0.5919059643763757)"
      ]
     },
     "execution_count": 18,
     "metadata": {},
     "output_type": "execute_result"
    }
   ],
   "source": [
    "from sklearn.linear_model import LogisticRegression\n",
    "ct = ColumnTransformer([\n",
    "    ('std', StandardScaler(), ['loading', 'measurement_1', 'measurement_4', 'measurement_14', 'measurement_17']),\n",
    "    ('pt', 'passthrough', ['na_1'])\n",
    "])\n",
    "\n",
    "clf_lr = make_pipeline(ct, LogisticRegression(solver='lbfgs'))\n",
    "\n",
    "result = eval_model(clf_lr)\n",
    "np.mean(result['test_score']), np.std(result['test_score']), np.mean(result['train_score'])"
   ]
  },
  {
   "cell_type": "code",
   "execution_count": 10,
   "id": "ca4a0616",
   "metadata": {},
   "outputs": [
    {
     "data": {
      "text/plain": [
       "0.5883988309352517"
      ]
     },
     "execution_count": 10,
     "metadata": {},
     "output_type": "execute_result"
    }
   ],
   "source": [
    "prd = choose_model(clf_lr)\n",
    "roc_auc_score(df_ans['failure'], prd)"
   ]
  },
  {
   "cell_type": "code",
   "execution_count": 19,
   "id": "7886d0ea",
   "metadata": {},
   "outputs": [
    {
     "data": {
      "text/plain": [
       "(0.5885731497293754, 0.0032206999809154964, 0.5914151994029708)"
      ]
     },
     "execution_count": 19,
     "metadata": {},
     "output_type": "execute_result"
    }
   ],
   "source": [
    "# LR2: LogisticRegression + PCA + loading_log\n",
    "\n",
    "from sklearn.decomposition import PCA\n",
    "\n",
    "ct = ColumnTransformer([\n",
    "    ('std_pca', make_pipeline(StandardScaler(), PCA(n_components=7)), X_num),\n",
    "    ('std', make_pipeline(FunctionTransformer(np.log, validate=False), StandardScaler()), ['loading']),\n",
    "    ('pt', 'passthrough', ['na_1'])\n",
    "])\n",
    "\n",
    "clf_lr2 = make_pipeline(\n",
    "    ct,\n",
    "    LogisticRegression(solver='lbfgs')\n",
    ")\n",
    "\n",
    "result = eval_model(clf_lr2)\n",
    "np.mean(result['test_score']), np.std(result['test_score']), np.mean(result['train_score'])"
   ]
  },
  {
   "cell_type": "code",
   "execution_count": 12,
   "id": "8079cc6a",
   "metadata": {},
   "outputs": [
    {
     "data": {
      "text/plain": [
       "0.5907263938848921"
      ]
     },
     "execution_count": 12,
     "metadata": {},
     "output_type": "execute_result"
    }
   ],
   "source": [
    "prd = choose_model(clf_lr2)\n",
    "roc_auc_score(df_ans['failure'], prd)"
   ]
  },
  {
   "cell_type": "code",
   "execution_count": 20,
   "id": "22ccb302",
   "metadata": {},
   "outputs": [
    {
     "data": {
      "text/plain": [
       "(0.5806758736037123, 0.002464349905679571, 0.6022612171962629)"
      ]
     },
     "execution_count": 20,
     "metadata": {},
     "output_type": "execute_result"
    }
   ],
   "source": [
    "# MLPClassifier: X_num + ['na_1', 'na_2']\n",
    "\n",
    "from sklearn.neural_network import MLPClassifier\n",
    "ct = ColumnTransformer([\n",
    "    ('std', StandardScaler(), ['loading'] + ['measurement_{}'.format(i) for i in range(18)]),\n",
    "    ('pt', 'passthrough', ['na_1', 'na_2'])\n",
    "])\n",
    "\n",
    "clf_mlp = make_pipeline(ct, MLPClassifier(hidden_layer_sizes=[4, 4], alpha=0.001, random_state=123))\n",
    "result = eval_model(clf_mlp)\n",
    "np.mean(result['test_score']), np.std(result['test_score']), np.mean(result['train_score'])"
   ]
  },
  {
   "cell_type": "code",
   "execution_count": 21,
   "id": "30fbf29c",
   "metadata": {},
   "outputs": [
    {
     "data": {
      "text/plain": [
       "(0.5842182849600424, 0.0020292279645126895, 0.635966723472507)"
      ]
     },
     "execution_count": 21,
     "metadata": {},
     "output_type": "execute_result"
    }
   ],
   "source": [
    "# RF: RandomForestClassifier\n",
    "# PCA도 넣어 봅니다.\n",
    "\n",
    "from sklearn.ensemble import RandomForestClassifier\n",
    "X_rf = ['loading', 'na_1', 'na_2'] + ['measurement_{}'.format(i) for i in range(18)]\n",
    "ct = ColumnTransformer([\n",
    "    ('std_pca', make_pipeline(StandardScaler(), PCA(n_components=8, random_state=123)), X_rf),\n",
    "    ('pt', 'passthrough', ['loading', 'na_1', 'na_2'])\n",
    "])\n",
    "clf_rf = make_pipeline(ct, RandomForestClassifier(\n",
    "    n_estimators=150, max_depth=7, min_samples_split= 512, random_state=123\n",
    "))\n",
    "result = eval_model(clf_rf)\n",
    "np.mean(result['test_score']), np.std(result['test_score']), np.mean(result['train_score'])"
   ]
  },
  {
   "cell_type": "code",
   "execution_count": 22,
   "id": "7e9da16a",
   "metadata": {},
   "outputs": [
    {
     "data": {
      "text/plain": [
       "(0.5858980476811373, 0.0038071221018368684, 0.6081416590998701)"
      ]
     },
     "execution_count": 22,
     "metadata": {},
     "output_type": "execute_result"
    }
   ],
   "source": [
    "# XGB: XGBoost\n",
    "import xgboost as xgb\n",
    "X_xgb = ['loading', 'na_1', 'na_2'] + ['measurement_{}'.format(i) for i in range(18)]\n",
    "ct = ColumnTransformer([\n",
    "    ('pt', 'passthrough', X_xgb)\n",
    "])\n",
    "clf_xgb = xgb.XGBClassifier(\n",
    "    learning_rate=0.01, n_estimators=300, subsample=0.5, colsample_bytree=0.9, max_depth=2, random_state=123\n",
    ")\n",
    "clf_xgb = make_pipeline(ct, clf_xgb)\n",
    "result = eval_model(clf_xgb)\n",
    "np.mean(result['test_score']), np.std(result['test_score']), np.mean(result['train_score'])"
   ]
  },
  {
   "cell_type": "code",
   "execution_count": 65,
   "id": "c8de26dd",
   "metadata": {},
   "outputs": [
    {
     "data": {
      "text/plain": [
       "(0.5857184027349147, 0.004779610840981138, 0.5951156410437852)"
      ]
     },
     "execution_count": 65,
     "metadata": {},
     "output_type": "execute_result"
    }
   ],
   "source": [
    "# GB: GradientBoosting\n",
    "from sklearn.ensemble import GradientBoostingClassifier\n",
    "X_gb = ['loading', 'na_1', 'na_2'] + ['measurement_{}'.format(i) for i in range(18)]\n",
    "ct = ColumnTransformer([\n",
    "    ('pt', 'passthrough', X_gb)\n",
    "])\n",
    "clf_gb = make_pipeline(ct, GradientBoostingClassifier(\n",
    "    n_estimators=100, max_depth=2, learning_rate=0.01, random_state=123\n",
    "))\n",
    "result = eval_model(clf_gb)\n",
    "np.mean(result['test_score']), np.std(result['test_score']), np.mean(result['train_score'])"
   ]
  },
  {
   "cell_type": "code",
   "execution_count": 60,
   "id": "6e934fcb",
   "metadata": {},
   "outputs": [
    {
     "data": {
      "text/plain": [
       "(0.5849601730817663, 0.005151288653554042, 0.5958137929229121)"
      ]
     },
     "execution_count": 60,
     "metadata": {},
     "output_type": "execute_result"
    }
   ],
   "source": [
    "# GB: GradientBoosting 2\n",
    "from sklearn.ensemble import GradientBoostingClassifier\n",
    "X_gb = ['loading', 'na_1', 'na_2'] + ['measurement_{}'.format(i) for i in range(18)]\n",
    "ct = ColumnTransformer([\n",
    "    ('pt', 'passthrough', X_gb)\n",
    "])\n",
    "clf_gb2 = make_pipeline(ct, GradientBoostingClassifier(\n",
    "    n_estimators=200, max_leaf_nodes=4, learning_rate=0.005, random_state=123\n",
    "))\n",
    "result = eval_model(clf_gb2)\n",
    "np.mean(result['test_score']), np.std(result['test_score']), np.mean(result['train_score'])"
   ]
  },
  {
   "cell_type": "code",
   "execution_count": 78,
   "id": "97a4c48f",
   "metadata": {},
   "outputs": [
    {
     "data": {
      "text/plain": [
       "(0.5902415739208746, 0.003920996873528661, 0.5952246451419261)"
      ]
     },
     "execution_count": 78,
     "metadata": {},
     "output_type": "execute_result"
    }
   ],
   "source": [
    "from sklearn.ensemble import VotingClassifier\n",
    "\n",
    "clf_vt = VotingClassifier([\n",
    "    ('baseline', clf_lr),\n",
    "    #('lr_2', clf_lr2),\n",
    "    #('mlp', clf_mlp),\n",
    "    #('rf', clf_rf),\n",
    "    #('xgb', clf_xgb),\n",
    "    ('gb', clf_gb),\n",
    "    #('gb2', clf_gb2)\n",
    "], voting='soft')\n",
    "result = eval_model(clf_vt)\n",
    "np.mean(result['test_score']), np.std(result['test_score']), np.mean(result['train_score'])"
   ]
  },
  {
   "cell_type": "code",
   "execution_count": 79,
   "id": "2ede041b",
   "metadata": {},
   "outputs": [
    {
     "data": {
      "text/plain": [
       "0.5927039118705035"
      ]
     },
     "execution_count": 79,
     "metadata": {},
     "output_type": "execute_result"
    }
   ],
   "source": [
    "prd = choose_model(clf_vt)\n",
    "roc_auc_score(df_ans['failure'], prd)"
   ]
  },
  {
   "cell_type": "code",
   "execution_count": null,
   "id": "f8ed1ab0",
   "metadata": {},
   "outputs": [],
   "source": []
  }
 ],
 "metadata": {
  "kernelspec": {
   "display_name": "Python 3 (ipykernel)",
   "language": "python",
   "name": "python3"
  },
  "language_info": {
   "codemirror_mode": {
    "name": "ipython",
    "version": 3
   },
   "file_extension": ".py",
   "mimetype": "text/x-python",
   "name": "python",
   "nbconvert_exporter": "python",
   "pygments_lexer": "ipython3",
   "version": "3.7.4"
  }
 },
 "nbformat": 4,
 "nbformat_minor": 5
}
